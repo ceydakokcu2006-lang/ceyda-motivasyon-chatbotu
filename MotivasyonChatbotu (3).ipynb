{
  "nbformat": 4,
  "nbformat_minor": 0,
  "metadata": {
    "colab": {
      "provenance": []
    },
    "kernelspec": {
      "name": "python3",
      "display_name": "Python 3"
    },
    "language_info": {
      "name": "python"
    }
  },
  "cells": [
    {
      "cell_type": "markdown",
      "source": [
        "# 2 - Veri Seti Hazırlama\n",
        "\n",
        "[cite_start]Bu projede RAG sisteminin temeli olarak, yüklü olan 3 adet kısa motivasyonel metin dosyası (motivasyon1.txt, motivasyon2.txt, motivasyon3.txt) kullanılmıştır[cite: 17]. [cite_start]Hazır veri setleri kullanılmıştır ve bu durumda veri setini anlatmak yeterlidir[cite: 17, 18].\n",
        "\n",
        "**Metodoloji ve İçerik:**\n",
        "* Veri setleri **hazırdır** ve elle oluşturulmuştur. [cite_start](Hazır veri setleri kullanmakta hiçbir sakınca yoktur [cite: 17]).\n",
        "* **İçerik:** Metinler, kendine inanma, küçük adımlar, vazgeçmeme, umut ve duygusal kabul gibi temaları içermektedir.\n",
        "* Veri setinin basit tutulması, RAG mimarisinin temel çalışma prensiplerini göstermek amacıyla tercih edilmiştir."
      ],
      "metadata": {
        "id": "RTw48Fd-fZIm"
      }
    },
    {
      "cell_type": "markdown",
      "source": [
        "# 3 - Çalışma Kılavuzu\n",
        "\n",
        "Bu proje, Google Colaboratory ortamında çalışmak üzere tasarlanmıştır. Projeyi çalıştırmak için aşağıdaki adımları sırasıyla takip edin:\n",
        "\n",
        "## Kurulum ve Çalıştırma\n",
        "\n",
        "1.  **Gerekli Kütüphanelerin Kurulumu:** Colab ortamında, not defterinin başında yer alan hücredeki `!pip install [kullanılan kütüphaneler]` komutunu çalıştırarak gerekli kütüphaneleri (örneğin `langchain`, `chromadb`, `google-genai` vb.) kurun.\n",
        "2.  **Google Drive Bağlantısı:** Veri setinin (motivasyonel metinler) Google Drive'da saklandığı varsayılmıştır. Not defterindeki ilgili hücreyi çalıştırarak Google Drive'a bağlantı kurun.\n",
        "3.  **API Anahtarı (Key) Tanımlama:** Gemini API Anahtarınızı (Key), not defterinde belirtilen yere (örneğin çevre değişkeni olarak) tanımlayın.\n",
        "4.  **Sırasıyla Çalıştırma:** Kurulum ve bağlantılar tamamlandıktan sonra, not defterini yukarıdan aşağıya doğru **sırasıyla** çalıştırın. Tüm hücreler çalıştırıldığında, not defterinin en sonundaki hücrede chatbot arayüzü aktif olacaktır.\n",
        "\n",
        "## Requirements.txt (Colab Uyarısı)\n",
        "\n",
        "Proje Colab üzerinde çalıştığı için ayrı bir `requirements.txt` dosyası zorunlu değildir. Gerekli tüm bağımlılıklar not defterinin ilk hücresinde `!pip install` komutları ile belirtilmiştir."
      ],
      "metadata": {
        "id": "6vvhOeDJhXzg"
      }
    },
    {
      "cell_type": "markdown",
      "source": [
        "# 4 - Çözüm Mimariniz (RAG Mimarisi)\n",
        "\n",
        "## Çözülen Problem\n",
        "Bu proje, büyük bir dil modelinin (LLM) bilgi kesintisi yaşaması (güncel veya spesifik bir alanda bilgi sahibi olmaması) sorununu çözmeyi amaçlar. Motivasyonel metinler üzerine kurulan chatbot, sadece bu metinlere dayanarak, konu dışına çıkmayan, tutarlı ve ilgili yanıtlar üretir.\n",
        "\n",
        "## Mimarinin Detayları (RAG Akışı)\n",
        "Projemiz, Retrieval Augmented Generation (RAG) mimarisi üzerine kurulmuştur. Akış aşağıdaki gibi işler:\n",
        "\n",
        "1.  **Veri Yükleme ve Parçalama (Loading & Splitting):** Yüklenen motivasyonel metinler (kaynak belgeler), LLM'in bağlam penceresine sığacak şekilde küçük parçalara (chunks) ayrılır.\n",
        "2.  **Vektörleştirme (Embedding):** Her metin parçası, bir **Embedding Modeli** (örneğin Google'a ait bir model) kullanılarak sayısal vektörlere dönüştürülür. Bu vektörler, metnin anlamsal içeriğini temsil eder.\n",
        "3.  **Vektör Veritabanı Oluşturma:** Oluşturulan bu vektörler, hızlı arama yapmak amacıyla **Vektör Veritabanına** (örneğin ChromaDB/FAISS) kaydedilir.\n",
        "4.  **Sorgu Vektörleştirme (Query Embedding):** Kullanıcı bir soru sorduğunda, bu soru da aynı Embedding Modeli kullanılarak vektöre dönüştürülür.\n",
        "5.  **Geri Çağırma (Retrieval):** Kullanıcı sorgusunun vektörü, Vektör Veritabanı'nda en benzer (semantik olarak en yakın) metin parçalarını bulmak için kullanılır.\n",
        "6.  **Yanıt Üretme (Generation):** Bulunan ilgili metin parçaları (bağlam/context) ve kullanıcının sorusu, birleştirilerek **LLM'e** (örneğin **Gemini API**) gönderilir. LLM, sadece bu bağlamı kullanarak nihai yanıtı üretir."
      ],
      "metadata": {
        "id": "_3C7ah2QiUj5"
      }
    },
    {
      "cell_type": "code",
      "source": [
        "from google.colab import drive\n",
        "drive.mount('/content/drive')\n"
      ],
      "metadata": {
        "colab": {
          "base_uri": "https://localhost:8080/"
        },
        "id": "W8WUrFU2PUJM",
        "outputId": "5697842c-4f17-4f2f-fba9-c4327c0b4394"
      },
      "execution_count": 2,
      "outputs": [
        {
          "output_type": "stream",
          "name": "stdout",
          "text": [
            "Mounted at /content/drive\n"
          ]
        }
      ]
    },
    {
      "cell_type": "code",
      "source": [
        "import os\n",
        "\n",
        "# Google Drive'daki klasörün yolunu buraya yaz\n",
        "veri_klasoru = \"/content/drive/MyDrive/Motivasyon Verileri\"\n",
        "\n",
        "tum_cumleler = []\n",
        "\n",
        "for dosya in os.listdir(veri_klasoru):\n",
        "    dosya_yolu = os.path.join(veri_klasoru, dosya)\n",
        "    with open(dosya_yolu, \"r\", encoding=\"utf-8\") as f:\n",
        "        satirlar = f.readlines()\n",
        "        tum_cumleler.extend(satirlar)\n",
        "\n",
        "print(\"Toplam\", len(tum_cumleler), \"motivasyon cümlesi yüklendi!\")\n"
      ],
      "metadata": {
        "colab": {
          "base_uri": "https://localhost:8080/",
          "height": 211
        },
        "id": "7KtPrtfSQsrN",
        "outputId": "67a5bdec-2189-440c-e452-7e8a4b732a1a"
      },
      "execution_count": 9,
      "outputs": [
        {
          "output_type": "error",
          "ename": "FileNotFoundError",
          "evalue": "[Errno 2] No such file or directory: '/content/drive/MyDrive/Motivasyon Verileri'",
          "traceback": [
            "\u001b[0;31m---------------------------------------------------------------------------\u001b[0m",
            "\u001b[0;31mFileNotFoundError\u001b[0m                         Traceback (most recent call last)",
            "\u001b[0;32m/tmp/ipython-input-3632458829.py\u001b[0m in \u001b[0;36m<cell line: 0>\u001b[0;34m()\u001b[0m\n\u001b[1;32m      6\u001b[0m \u001b[0mtum_cumleler\u001b[0m \u001b[0;34m=\u001b[0m \u001b[0;34m[\u001b[0m\u001b[0;34m]\u001b[0m\u001b[0;34m\u001b[0m\u001b[0;34m\u001b[0m\u001b[0m\n\u001b[1;32m      7\u001b[0m \u001b[0;34m\u001b[0m\u001b[0m\n\u001b[0;32m----> 8\u001b[0;31m \u001b[0;32mfor\u001b[0m \u001b[0mdosya\u001b[0m \u001b[0;32min\u001b[0m \u001b[0mos\u001b[0m\u001b[0;34m.\u001b[0m\u001b[0mlistdir\u001b[0m\u001b[0;34m(\u001b[0m\u001b[0mveri_klasoru\u001b[0m\u001b[0;34m)\u001b[0m\u001b[0;34m:\u001b[0m\u001b[0;34m\u001b[0m\u001b[0;34m\u001b[0m\u001b[0m\n\u001b[0m\u001b[1;32m      9\u001b[0m     \u001b[0mdosya_yolu\u001b[0m \u001b[0;34m=\u001b[0m \u001b[0mos\u001b[0m\u001b[0;34m.\u001b[0m\u001b[0mpath\u001b[0m\u001b[0;34m.\u001b[0m\u001b[0mjoin\u001b[0m\u001b[0;34m(\u001b[0m\u001b[0mveri_klasoru\u001b[0m\u001b[0;34m,\u001b[0m \u001b[0mdosya\u001b[0m\u001b[0;34m)\u001b[0m\u001b[0;34m\u001b[0m\u001b[0;34m\u001b[0m\u001b[0m\n\u001b[1;32m     10\u001b[0m     \u001b[0;32mwith\u001b[0m \u001b[0mopen\u001b[0m\u001b[0;34m(\u001b[0m\u001b[0mdosya_yolu\u001b[0m\u001b[0;34m,\u001b[0m \u001b[0;34m\"r\"\u001b[0m\u001b[0;34m,\u001b[0m \u001b[0mencoding\u001b[0m\u001b[0;34m=\u001b[0m\u001b[0;34m\"utf-8\"\u001b[0m\u001b[0;34m)\u001b[0m \u001b[0;32mas\u001b[0m \u001b[0mf\u001b[0m\u001b[0;34m:\u001b[0m\u001b[0;34m\u001b[0m\u001b[0;34m\u001b[0m\u001b[0m\n",
            "\u001b[0;31mFileNotFoundError\u001b[0m: [Errno 2] No such file or directory: '/content/drive/MyDrive/Motivasyon Verileri'"
          ]
        }
      ]
    },
    {
      "cell_type": "code",
      "source": [
        "!ls /content/drive/MyDrive\n"
      ],
      "metadata": {
        "colab": {
          "base_uri": "https://localhost:8080/"
        },
        "id": "NKqbyy4DRXfK",
        "outputId": "40bdc9c0-ab0f-48f0-cc2d-c5e0e1eaae9a"
      },
      "execution_count": 10,
      "outputs": [
        {
          "output_type": "stream",
          "name": "stdout",
          "text": [
            "''\\''Belge (2)'\\'' dosyasını sizinle paylaşıyorum'\n",
            "''\\''Belge (2)'\\'' dosyasını sizinle paylaşıyorum (1)'\n",
            "''\\''Belge (3)'\\'' dosyasını sizinle paylaşıyorum'\n",
            "'‎Ceyda Kökcü kişisinden ses'\n",
            "'‎Ceyda Kökcü kişisinden ses (1)'\n",
            "'‎Ceyda Kökcü kişisinden ses (2)'\n",
            "'‎Ceyda Kökcü kişisinden ses (3)'\n",
            "'‎Ceyda Kökcü kişisinden ses (4)'\n",
            "'Colab Notebooks'\n",
            "'Google Earth'\n",
            " HW5e_PreIntermediate_Test_Unit_3A.docx\n",
            " IMG-20240813-WA0026.jpg\n",
            " IMG_5099.zip\n",
            " inbound6823513440691173807.pdf\n",
            "'Irmak Ceyda Elif gitar'\n",
            "'Irmak  ceyda şarkı'\n",
            " Irmak_Ceyda_Vocal.wav\n",
            "'LALELİ GAYRİMENKUL '\n",
            " motivasyon_verileri\n",
            " SATILIK_20250722_154901_0000.png\n",
            " Screenshot_20250506_200420_Word.jpg\n",
            "'‎Zeliha Nur ile WhatsApp Sohbeti'\n",
            " Zeliş\n"
          ]
        }
      ]
    },
    {
      "cell_type": "code",
      "source": [
        "# Google Drive'daki klasörün içeriğini göster\n",
        "!ls -la \"/content/drive/MyDrive/motivasyon_verileri\"\n"
      ],
      "metadata": {
        "colab": {
          "base_uri": "https://localhost:8080/"
        },
        "id": "UvSGeB41SGNN",
        "outputId": "6296cc98-5e0a-45de-f2df-970c1285aa9e"
      },
      "execution_count": 11,
      "outputs": [
        {
          "output_type": "stream",
          "name": "stdout",
          "text": [
            "total 2\n",
            "-rw------- 1 root root 175 Oct 11 16:11 motivasyon1.txt\n",
            "-rw------- 1 root root 124 Oct 11 16:16 motivasyon2.txt\n",
            "-rw------- 1 root root 166 Oct 11 16:52 motivasyon3.txt\n"
          ]
        }
      ]
    },
    {
      "cell_type": "code",
      "source": [
        "import os\n",
        "\n",
        "veri_klasoru = \"/content/drive/MyDrive/motivasyon_verileri\"  # senin klasörün\n",
        "\n",
        "tum_cumleler = []\n",
        "\n",
        "for dosya in os.listdir(veri_klasoru):\n",
        "    dosya_yolu = os.path.join(veri_klasoru, dosya)\n",
        "    try:\n",
        "        with open(dosya_yolu, \"r\", encoding=\"utf-8\") as f:\n",
        "            # Her satırı temizle ve boşsa atla\n",
        "            satirlar = [s.strip() for s in f.readlines() if s.strip()]\n",
        "            tum_cumleler.extend(satirlar)\n",
        "    except Exception as e:\n",
        "        print(f\"Hata okurken {dosya}: {e}\")\n",
        "\n",
        "print(\"Yüklü dosyalar:\", os.listdir(veri_klasoru))\n",
        "print(\"Toplam\", len(tum_cumleler), \"motivasyon cümlesi yüklendi!\")\n",
        "# İlk 5 cümleyi göster\n",
        "for i, c in enumerate(tum_cumleler[:5], 1):\n",
        "    print(i, \"-\", c)\n"
      ],
      "metadata": {
        "colab": {
          "base_uri": "https://localhost:8080/"
        },
        "id": "ewW9b9a_SQJZ",
        "outputId": "5aa50318-4833-446f-ce90-1a9f232e2a49"
      },
      "execution_count": 12,
      "outputs": [
        {
          "output_type": "stream",
          "name": "stdout",
          "text": [
            "Yüklü dosyalar: ['motivasyon1.txt', 'motivasyon2.txt', 'motivasyon3.txt']\n",
            "Toplam 9 motivasyon cümlesi yüklendi!\n",
            "1 - ﻿Kendine inan, çünkü sen düşündüğünden daha güçlüsün.\n",
            "2 - Bugün kötü olabilir ama yarın yeni bir başlangıç.\n",
            "3 - Küçük adımlar büyük farklar yaratır.\n",
            "4 - ﻿Vazgeçmek kolaydır ama devam etmek kazandırır.\n",
            "5 - Her başarı, bir hayalle başlar..\n"
          ]
        }
      ]
    },
    {
      "cell_type": "code",
      "source": [
        "import random\n",
        "\n",
        "def motivasyon_mesaji():\n",
        "    return random.choice(tum_cumleler)\n",
        "\n",
        "print(\"Motivasyon Chatbot'u başlatıldı. Sohbeti sonlandırmak için 'çık' yazın.\\n\")\n",
        "\n",
        "while True:\n",
        "    try:\n",
        "        mesaj = input(\"Sen: \")\n",
        "    except Exception:\n",
        "        # Colab'de input() bazen farklı davranır; hata alırsan durdurmak için Kernel -> Restart yapabilir veya hücreyi durdurabilirsin.\n",
        "        print(\"Girdi alınamadı. Hücreyi durdurup tekrar deneyin.\")\n",
        "        break\n",
        "\n",
        "    if not mesaj:\n",
        "        continue\n",
        "    if mesaj.lower() in [\"çık\", \"bitir\", \"hoşça kal\"]:\n",
        "        print(\"Chatbot: Görüşürüz 💛\")\n",
        "        break\n",
        "    else:\n",
        "        cevap = motivasyon_mesaji()\n",
        "        print(\"Chatbot:\", cevap)\n"
      ],
      "metadata": {
        "colab": {
          "base_uri": "https://localhost:8080/",
          "height": 426
        },
        "id": "kMznrG1gS_fg",
        "outputId": "8ad0ef10-f014-4f61-e126-cbfa1eb8b3ef"
      },
      "execution_count": 14,
      "outputs": [
        {
          "name": "stdout",
          "output_type": "stream",
          "text": [
            "Motivasyon Chatbot'u başlatıldı. Sohbeti sonlandırmak için 'çık' yazın.\n",
            "\n",
            "Sen: \n"
          ]
        },
        {
          "output_type": "error",
          "ename": "KeyboardInterrupt",
          "evalue": "Interrupted by user",
          "traceback": [
            "\u001b[0;31m---------------------------------------------------------------------------\u001b[0m",
            "\u001b[0;31mKeyboardInterrupt\u001b[0m                         Traceback (most recent call last)",
            "\u001b[0;32m/tmp/ipython-input-2745332442.py\u001b[0m in \u001b[0;36m<cell line: 0>\u001b[0;34m()\u001b[0m\n\u001b[1;32m      8\u001b[0m \u001b[0;32mwhile\u001b[0m \u001b[0;32mTrue\u001b[0m\u001b[0;34m:\u001b[0m\u001b[0;34m\u001b[0m\u001b[0;34m\u001b[0m\u001b[0m\n\u001b[1;32m      9\u001b[0m     \u001b[0;32mtry\u001b[0m\u001b[0;34m:\u001b[0m\u001b[0;34m\u001b[0m\u001b[0;34m\u001b[0m\u001b[0m\n\u001b[0;32m---> 10\u001b[0;31m         \u001b[0mmesaj\u001b[0m \u001b[0;34m=\u001b[0m \u001b[0minput\u001b[0m\u001b[0;34m(\u001b[0m\u001b[0;34m\"Sen: \"\u001b[0m\u001b[0;34m)\u001b[0m\u001b[0;34m\u001b[0m\u001b[0;34m\u001b[0m\u001b[0m\n\u001b[0m\u001b[1;32m     11\u001b[0m     \u001b[0;32mexcept\u001b[0m \u001b[0mException\u001b[0m\u001b[0;34m:\u001b[0m\u001b[0;34m\u001b[0m\u001b[0;34m\u001b[0m\u001b[0m\n\u001b[1;32m     12\u001b[0m         \u001b[0;31m# Colab'de input() bazen farklı davranır; hata alırsan durdurmak için Kernel -> Restart yapabilir veya hücreyi durdurabilirsin.\u001b[0m\u001b[0;34m\u001b[0m\u001b[0;34m\u001b[0m\u001b[0m\n",
            "\u001b[0;32m/usr/local/lib/python3.12/dist-packages/ipykernel/kernelbase.py\u001b[0m in \u001b[0;36mraw_input\u001b[0;34m(self, prompt)\u001b[0m\n\u001b[1;32m   1175\u001b[0m                 \u001b[0;34m\"raw_input was called, but this frontend does not support input requests.\"\u001b[0m\u001b[0;34m\u001b[0m\u001b[0;34m\u001b[0m\u001b[0m\n\u001b[1;32m   1176\u001b[0m             )\n\u001b[0;32m-> 1177\u001b[0;31m         return self._input_request(\n\u001b[0m\u001b[1;32m   1178\u001b[0m             \u001b[0mstr\u001b[0m\u001b[0;34m(\u001b[0m\u001b[0mprompt\u001b[0m\u001b[0;34m)\u001b[0m\u001b[0;34m,\u001b[0m\u001b[0;34m\u001b[0m\u001b[0;34m\u001b[0m\u001b[0m\n\u001b[1;32m   1179\u001b[0m             \u001b[0mself\u001b[0m\u001b[0;34m.\u001b[0m\u001b[0m_parent_ident\u001b[0m\u001b[0;34m[\u001b[0m\u001b[0;34m\"shell\"\u001b[0m\u001b[0;34m]\u001b[0m\u001b[0;34m,\u001b[0m\u001b[0;34m\u001b[0m\u001b[0;34m\u001b[0m\u001b[0m\n",
            "\u001b[0;32m/usr/local/lib/python3.12/dist-packages/ipykernel/kernelbase.py\u001b[0m in \u001b[0;36m_input_request\u001b[0;34m(self, prompt, ident, parent, password)\u001b[0m\n\u001b[1;32m   1217\u001b[0m             \u001b[0;32mexcept\u001b[0m \u001b[0mKeyboardInterrupt\u001b[0m\u001b[0;34m:\u001b[0m\u001b[0;34m\u001b[0m\u001b[0;34m\u001b[0m\u001b[0m\n\u001b[1;32m   1218\u001b[0m                 \u001b[0;31m# re-raise KeyboardInterrupt, to truncate traceback\u001b[0m\u001b[0;34m\u001b[0m\u001b[0;34m\u001b[0m\u001b[0m\n\u001b[0;32m-> 1219\u001b[0;31m                 \u001b[0;32mraise\u001b[0m \u001b[0mKeyboardInterrupt\u001b[0m\u001b[0;34m(\u001b[0m\u001b[0;34m\"Interrupted by user\"\u001b[0m\u001b[0;34m)\u001b[0m \u001b[0;32mfrom\u001b[0m \u001b[0;32mNone\u001b[0m\u001b[0;34m\u001b[0m\u001b[0;34m\u001b[0m\u001b[0m\n\u001b[0m\u001b[1;32m   1220\u001b[0m             \u001b[0;32mexcept\u001b[0m \u001b[0mException\u001b[0m\u001b[0;34m:\u001b[0m\u001b[0;34m\u001b[0m\u001b[0;34m\u001b[0m\u001b[0m\n\u001b[1;32m   1221\u001b[0m                 \u001b[0mself\u001b[0m\u001b[0;34m.\u001b[0m\u001b[0mlog\u001b[0m\u001b[0;34m.\u001b[0m\u001b[0mwarning\u001b[0m\u001b[0;34m(\u001b[0m\u001b[0;34m\"Invalid Message:\"\u001b[0m\u001b[0;34m,\u001b[0m \u001b[0mexc_info\u001b[0m\u001b[0;34m=\u001b[0m\u001b[0;32mTrue\u001b[0m\u001b[0;34m)\u001b[0m\u001b[0;34m\u001b[0m\u001b[0;34m\u001b[0m\u001b[0m\n",
            "\u001b[0;31mKeyboardInterrupt\u001b[0m: Interrupted by user"
          ]
        }
      ]
    },
    {
      "cell_type": "code",
      "source": [
        "import random\n",
        "\n",
        "def motivasyon_mesaji():\n",
        "    return random.choice(tum_cumleler)\n",
        "\n",
        "print(\"Motivasyon Chatbot'u başlatıldı. Sohbeti sonlandırmak için 'çık' yazın.\\n\")\n",
        "\n",
        "# Colab'de çalışması için input yerine while + prompt yöntemi\n",
        "for _ in range(10):  # 10 kereye kadar konuşma yapabilirsin\n",
        "    mesaj = input(\"Sen: \")\n",
        "\n",
        "    if mesaj.lower() in [\"çık\", \"bitir\", \"hoşça kal\"]:\n",
        "        print(\"Chatbot: Görüşürüz 💛\")\n",
        "        break\n",
        "    else:\n",
        "        cevap = motivasyon_mesaji()\n",
        "        print(\"Chatbot:\", cevap)\n"
      ],
      "metadata": {
        "colab": {
          "base_uri": "https://localhost:8080/"
        },
        "id": "NFF9-N6kUlYK",
        "outputId": "9ce98660-a016-42cd-8415-e05fab99aeca"
      },
      "execution_count": 15,
      "outputs": [
        {
          "output_type": "stream",
          "name": "stdout",
          "text": [
            "Motivasyon Chatbot'u başlatıldı. Sohbeti sonlandırmak için 'çık' yazın.\n",
            "\n",
            "Sen: çık\n",
            "Chatbot: Görüşürüz 💛\n"
          ]
        }
      ]
    }
  ]
}